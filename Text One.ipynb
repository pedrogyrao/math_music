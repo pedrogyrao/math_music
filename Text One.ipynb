{
 "cells": [
  {
   "cell_type": "code",
   "execution_count": 2,
   "metadata": {},
   "outputs": [],
   "source": [
    "import os\n",
    "import json\n",
    "import math\n",
    "import numpy as np\n",
    "import pandas as pd\n",
    "import matplotlib.pyplot as plt\n",
    "from matplotlib import animation, rc\n",
    "from IPython.display import HTML\n",
    "\n",
    "ffmpg_path = os.path.abspath(r'C:\\Users\\pedro\\OneDrive\\Área de Trabalho\\math_s\\ffmpeg-20191101-53c21c2-win64-static\\bin\\ffmpeg.exe')\n",
    "# os.environ['path'] += ';' + ffmpg_path\n",
    "plt.rcParams['animation.ffmpeg_path'] = ffmpg_path"
   ]
  },
  {
   "cell_type": "markdown",
   "metadata": {},
   "source": [
    "# Music, how come? A python approach to an old and heavy theory\n",
    "\n",
    "Have you ever thought about it? How sound is generated? How can we give a face to something that is not visible?\n",
    "In order to draw the first lines, we need to understand how sound is brought to life and then to the digital world.\n"
   ]
  },
  {
   "cell_type": "markdown",
   "metadata": {},
   "source": [
    "When we hit the guitar string\n",
    "\n",
    "![](https://media3.giphy.com/media/YxeWytfutfU5i/source.gif)\n",
    "\n",
    " it forces the air around it to oscilate as it moves. The air will carry the string vibration inducing our eardrum to vibrate as well. The eardrum alongside with a group of bones in the midle ear (Malleus, Incus and Stapes) will make the tiny hairs inside our inner ear (cochlea) vibrate into electrical pulses through the hearing nerve giving us the notion of sound!\n",
    "\n",
    "![](https://encrypted-tbn0.gstatic.com/images?q=tbn%3AANd9GcStkwXU5jC957UgfM36twDp326G_vgFYd9sR0taI3GH_rx82gqg)"
   ]
  },
  {
   "cell_type": "markdown",
   "metadata": {},
   "source": [
    "# Yeah, this is pretty amazing. But involves a lot of biological explanations and no Python.\n",
    "\n",
    "![](https://encrypted-tbn0.gstatic.com/images?q=tbn%3AANd9GcQ5gk5tRKXQtjw_akXQ8Sc2wguZpsDBkxXJIIpTVrOm3rgS7hjH)\n"
   ]
  },
  {
   "cell_type": "markdown",
   "metadata": {},
   "source": [
    "The way that the microphone will translate those waves into something that is \"computable\" is pretty the same.\n",
    "\n",
    "![](https://encrypted-tbn0.gstatic.com/images?q=tbn%3AANd9GcSXElAXEIkhqgDksKlXcW6zPVtmYjUMp2VoqQ1a_8qqU9NpH61q)\n",
    "\n",
    "I guy called Emile Berliner\n",
    "\n",
    "![](https://encrypted-tbn0.gstatic.com/images?q=tbn%3AANd9GcT31mFtGc-U-PBSbETHdIat-JhkWvyVqwH7YuDSEifv697ylNKp)\n",
    "\n",
    "was able to create a device able to vibrate with the sound carried in the wind and by this vary the \"resistance\" (the right term is impedance) in a given circuit. This impedance variation couses a the difference of tension vary in the \"same\" shape as the original string was vibrating."
   ]
  },
  {
   "cell_type": "markdown",
   "metadata": {},
   "source": [
    "## Resolution\n",
    "![](https://media.giphy.com/media/xT0xeDRRrPFvjXfZF6/giphy.gif)"
   ]
  },
  {
   "cell_type": "markdown",
   "metadata": {},
   "source": [
    "In the real world things have infinite resolution. Take out vision as an example, we can always amplify it with magnifiers, microscopes. We know for a fact that the only limitation for zooming is the lens capacity. In the digital world we have a harder limitation: **Memory**. In the computer when we zoom into a picture, as good as they can be, there will be a moment when the pixels will start to appear. To collect sound \"pixels\" (samples) to represent the sounds that we are gonna hear we will use a frequency that always get the samples with the same intervals. We will call this collection frequency sampling frequency and it will be the amount of samples we will collect in a time interval. We will find in the *Système international d'unités* (SI) a unity to anotate frequency and it is named after Heinrich\n",
    "![](https://encrypted-tbn0.gstatic.com/images?q=tbn%3AANd9GcTkcbL_P8yEkDUIxNL1pgFVSyGjsa9CRFNb__Mm2Nu1M5cTYGBb)\n",
    "Hertz."
   ]
  },
  {
   "cell_type": "markdown",
   "metadata": {},
   "source": [
    "Ok, less biology, but, still, no Python.\n",
    "\n",
    "![](https://images.idgesg.net/images/article/2018/07/python-100763894-large.jpg)\n"
   ]
  },
  {
   "cell_type": "markdown",
   "metadata": {},
   "source": [
    "## to the code!"
   ]
  },
  {
   "cell_type": "code",
   "execution_count": 1,
   "metadata": {},
   "outputs": [],
   "source": [
    "import os\n",
    "import json\n",
    "import math\n",
    "import numpy as np\n",
    "import pandas as pd\n",
    "import matplotlib.pyplot as plt\n",
    "from matplotlib import animation, rc\n",
    "from IPython.display import HTML\n",
    "\n",
    "ffmpg_path = os.path.abspath(r'C:\\Users\\pedro\\OneDrive\\Área de Trabalho\\math_s\\ffmpeg-20191101-53c21c2-win64-static\\bin\\ffmpeg.exe')\n",
    "# os.environ['path'] += ';' + ffmpg_path\n",
    "plt.rcParams['animation.ffmpeg_path'] = ffmpg_path"
   ]
  },
  {
   "cell_type": "markdown",
   "metadata": {},
   "source": [
    "First lets create an array with all the time intervals where we will have samples between 0 and 5 seconds using 100Hz as our sampling frequency."
   ]
  },
  {
   "cell_type": "code",
   "execution_count": 2,
   "metadata": {},
   "outputs": [
    {
     "data": {
      "image/png": "[encoded data removed]",
      "text/plain": [
       "<Figure size 432x288 with 1 Axes>"
      ]
     },
     "metadata": {
      "needs_background": "light"
     },
     "output_type": "display_data"
    }
   ],
   "source": [
    "sampling_frequency = 100\n",
    "time = 5\n",
    "time_vector = np.linspace(0, time, int(sampling_frequency * time))\n",
    "plt.plot(time_vector)\n",
    "plt.ylabel('Time (s)')\n",
    "plt.xlabel('Sample')\n",
    "plt.title('Time vector built using our 100hz sampling frequency.')\n",
    "plt.show()"
   ]
  },
  {
   "cell_type": "markdown",
   "metadata": {},
   "source": [
    "As we can see, from 5 seconds of sample intervals using 100Hz generates 500 sample intervals. "
   ]
  },
  {
   "cell_type": "markdown",
   "metadata": {},
   "source": [
    "All this big explanation about how the air propages the vibrations in the string was to tell you that sound waves have a very similar shape to what we see in that guitar gif.\n",
    "So isn't this:\n",
    "![](https://media3.giphy.com/media/YxeWytfutfU5i/source.gif)"
   ]
  },
  {
   "cell_type": "markdown",
   "metadata": {},
   "source": [
    "Close to this:"
   ]
  },
  {
   "cell_type": "code",
   "execution_count": 3,
   "metadata": {},
   "outputs": [
    {
     "data": {
      "image/png": "[encoded data removed]",
      "text/plain": [
       "<Figure size 1080x216 with 1 Axes>"
      ]
     },
     "metadata": {
      "needs_background": "light"
     },
     "output_type": "display_data"
    }
   ],
   "source": [
    "nrepetitions = 6\n",
    "voltages = nrepetitions * [3.1, 3, 2.5, 2,  1, 0, -1, -2, -2.5, -3, -3.1, -3, -2.5, -2, -1, 0, 1, 2, 2.5, 3, 3.1]\n",
    "plt.figure(figsize=(15, 3))\n",
    "plt.plot(voltages)\n",
    "plt.xlim([0, len(voltages)])\n",
    "plt.show()"
   ]
  },
  {
   "cell_type": "markdown",
   "metadata": {},
   "source": [
    "Yes, sound waves are very similar to senoids and, in order to emulate sound wave recordings we are gonna use simple cosine generataions."
   ]
  },
  {
   "cell_type": "markdown",
   "metadata": {},
   "source": []
  },
  {
   "cell_type": "code",
   "execution_count": null,
   "metadata": {},
   "outputs": [],
   "source": []
  }
 ],
 "metadata": {
  "kernelspec": {
   "display_name": "Python 3",
   "language": "python",
   "name": "python3"
  },
  "language_info": {
   "codemirror_mode": {
    "name": "ipython",
    "version": 3
   },
   "file_extension": ".py",
   "mimetype": "text/x-python",
   "name": "python",
   "nbconvert_exporter": "python",
   "pygments_lexer": "ipython3",
   "version": "3.6.8"
  },
  "toc": {
   "base_numbering": 1,
   "nav_menu": {},
   "number_sections": true,
   "sideBar": true,
   "skip_h1_title": false,
   "title_cell": "Table of Contents",
   "title_sidebar": "Contents",
   "toc_cell": false,
   "toc_position": {},
   "toc_section_display": true,
   "toc_window_display": false
  }
 },
 "nbformat": 4,
 "nbformat_minor": 2
}
