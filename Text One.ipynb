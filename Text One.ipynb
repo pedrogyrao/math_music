{
 "cells": [
  {
   "cell_type": "code",
   "execution_count": 2,
   "metadata": {},
   "outputs": [],
   "source": [
    "import os\n",
    "import json\n",
    "import math\n",
    "import numpy as np\n",
    "import pandas as pd\n",
    "import matplotlib.pyplot as plt\n",
    "from matplotlib import animation, rc\n",
    "from IPython.display import HTML\n",
    "\n",
    "ffmpg_path = os.path.abspath(r'C:\\Users\\pedro\\OneDrive\\Área de Trabalho\\math_s\\ffmpeg-20191101-53c21c2-win64-static\\bin\\ffmpeg.exe')\n",
    "# os.environ['path'] += ';' + ffmpg_path\n",
    "plt.rcParams['animation.ffmpeg_path'] = ffmpg_path"
   ]
  },
  {
   "cell_type": "markdown",
   "metadata": {},
   "source": [
    "# Music, how come? A python approach to an old and heavy theory\n",
    "\n",
    "Have you ever thought about it? How sound is generated? How can we give a face to something that is not visible?\n",
    "In order to draw the first lines, we need to understand how sound is brought to life and then to the digital world.\n"
   ]
  },
  {
   "cell_type": "markdown",
   "metadata": {},
   "source": [
    "When we hit the guitar string\n",
    "\n",
    "![](https://media3.giphy.com/media/YxeWytfutfU5i/source.gif)\n",
    "\n",
    " it forces the air around it to oscilate as it moves. The air will carry the string vibration inducing our eardrum to vibrate as well. The eardrum alongside with a group of bones in the midle ear (Malleus, Incus and Stapes) will make the tiny hairs inside our inner ear (cochlea) vibrate into electrical pulses through the hearing nerve giving us the notion of sound!\n",
    "\n",
    "![](https://encrypted-tbn0.gstatic.com/images?q=tbn%3AANd9GcStkwXU5jC957UgfM36twDp326G_vgFYd9sR0taI3GH_rx82gqg)"
   ]
  },
  {
   "cell_type": "markdown",
   "metadata": {},
   "source": [
    "# Yeah, this is pretty amazing. But involves a lot of biological explanations and no Python.\n",
    "\n",
    "![](https://encrypted-tbn0.gstatic.com/images?q=tbn%3AANd9GcQ5gk5tRKXQtjw_akXQ8Sc2wguZpsDBkxXJIIpTVrOm3rgS7hjH)\n"
   ]
  },
  {
   "cell_type": "markdown",
   "metadata": {},
   "source": [
    "The way that the microphone will translate those waves into something that is \"computable\" is pretty the same.\n",
    "\n",
    "![](https://encrypted-tbn0.gstatic.com/images?q=tbn%3AANd9GcSXElAXEIkhqgDksKlXcW6zPVtmYjUMp2VoqQ1a_8qqU9NpH61q)\n",
    "\n",
    "I guy called Emile Berliner\n",
    "\n",
    "![](https://encrypted-tbn0.gstatic.com/images?q=tbn%3AANd9GcT31mFtGc-U-PBSbETHdIat-JhkWvyVqwH7YuDSEifv697ylNKp)\n",
    "\n",
    "was able to create a device able to vibrate with the sound carried in the wind and by this vary the \"resistance\" (the right term is impedance) in a given circuit. This impedance variation couses a the difference of tension vary in the \"same\" shape as the original string was vibrating."
   ]
  },
  {
   "cell_type": "markdown",
   "metadata": {},
   "source": [
    "Ok, less biology, but, still, no Python.\n",
    "\n",
    "![](https://images.idgesg.net/images/article/2018/07/python-100763894-large.jpg)\n"
   ]
  },
  {
   "cell_type": "markdown",
   "metadata": {},
   "source": [
    "All this explanation was to tell you that sound waves have a very similar shape to what we see in that guitar gif.\n",
    "So isn't this:\n",
    "\n",
    "![](https://media3.giphy.com/media/YxeWytfutfU5i/source.gif)"
   ]
  },
  {
   "cell_type": "markdown",
   "metadata": {},
   "source": [
    "Close to this:"
   ]
  },
  {
   "cell_type": "code",
   "execution_count": null,
   "metadata": {},
   "outputs": [],
   "source": []
  }
 ],
 "metadata": {
  "kernelspec": {
   "display_name": "Python 3",
   "language": "python",
   "name": "python3"
  },
  "language_info": {
   "codemirror_mode": {
    "name": "ipython",
    "version": 3
   },
   "file_extension": ".py",
   "mimetype": "text/x-python",
   "name": "python",
   "nbconvert_exporter": "python",
   "pygments_lexer": "ipython3",
   "version": "3.6.8"
  },
  "toc": {
   "base_numbering": 1,
   "nav_menu": {},
   "number_sections": true,
   "sideBar": true,
   "skip_h1_title": false,
   "title_cell": "Table of Contents",
   "title_sidebar": "Contents",
   "toc_cell": false,
   "toc_position": {},
   "toc_section_display": true,
   "toc_window_display": false
  }
 },
 "nbformat": 4,
 "nbformat_minor": 2
}
