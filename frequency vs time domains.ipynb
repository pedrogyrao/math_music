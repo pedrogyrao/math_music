{
 "cells": [
  {
   "cell_type": "markdown",
   "metadata": {},
   "source": [
    "# imports"
   ]
  },
  {
   "cell_type": "code",
   "execution_count": 1,
   "metadata": {},
   "outputs": [],
   "source": [
    "import os\n",
    "import json\n",
    "import math\n",
    "import numpy as np\n",
    "import pandas as pd\n",
    "import matplotlib.pyplot as plt\n",
    "from matplotlib import animation, rc\n",
    "from IPython.display import HTML"
   ]
  },
  {
   "cell_type": "code",
   "execution_count": 2,
   "metadata": {},
   "outputs": [],
   "source": [
    "ffmpg_path = os.path.abspath(r'C:\\Users\\pedro\\OneDrive\\Área de Trabalho\\math_s\\ffmpeg-20191101-53c21c2-win64-static\\bin\\ffmpeg.exe')\n",
    "# os.environ['path'] += ';' + ffmpg_path\n",
    "plt.rcParams['animation.ffmpeg_path'] = ffmpg_path"
   ]
  },
  {
   "cell_type": "markdown",
   "metadata": {},
   "source": [
    "# Tools"
   ]
  },
  {
   "cell_type": "code",
   "execution_count": 3,
   "metadata": {},
   "outputs": [],
   "source": [
    "def cosine(time_vector, f, amplitude=1, phase=2, norm_above_zero=True):\n",
    "    cos = np.cos(phase * np.pi * f * time_vector)\n",
    "    if norm_above_zero:\n",
    "        minimun = np.min(cos)\n",
    "        if 0 > minimun:\n",
    "            cos -= minimun\n",
    "        cos /= np.max(cos)\n",
    "    return amplitude * cos"
   ]
  },
  {
   "cell_type": "code",
   "execution_count": 4,
   "metadata": {},
   "outputs": [],
   "source": [
    "def plot_freq_points(frequency, time, x_offset=0, y_offset=0):\n",
    "    period = 1 / frequency\n",
    "    for i in np.arange(period, time + period, period):\n",
    "        plt.plot(i + x_offset, y_offset, marker='o', color='r')"
   ]
  },
  {
   "cell_type": "markdown",
   "metadata": {},
   "source": [
    "# Motivation\n",
    "\n",
    "These days, I was talking with a friend of mine about a undergraduate thesis. The paper was pretty cool, the main goal was to create a software able to identify the notes produced by an acoustic guitar. In the same moment, I caught  my self thinking about spectrograms, wavelets, transforms, integrals and all the things that any fourth semester elctrical engineering studant that would be learning the mysteries of DSP would think. But no. My friend got my ideas and trashed them all, by saying:\n",
    "\n",
    "    - Isn't that kind of basic? Those media files don't come with the music notes kindoff declared?\n",
    "    \n",
    "Sure, is totally acceptable that people in general thinks that. It makes perfect sense to store sounds declaratively, if you think only about the notes. A \"structured\" way enought like csv, yaml, json should be to store and make the \"music\" playable... It took me a few seconds to think about this format of sound files:\n"
   ]
  },
  {
   "cell_type": "code",
   "execution_count": 5,
   "metadata": {},
   "outputs": [
    {
     "data": {
      "text/html": [
       "<div>\n",
       "<style scoped>\n",
       "    .dataframe tbody tr th:only-of-type {\n",
       "        vertical-align: middle;\n",
       "    }\n",
       "\n",
       "    .dataframe tbody tr th {\n",
       "        vertical-align: top;\n",
       "    }\n",
       "\n",
       "    .dataframe thead th {\n",
       "        text-align: right;\n",
       "    }\n",
       "</style>\n",
       "<table border=\"1\" class=\"dataframe\">\n",
       "  <thead>\n",
       "    <tr style=\"text-align: right;\">\n",
       "      <th></th>\n",
       "      <th>note</th>\n",
       "      <th>start</th>\n",
       "      <th>finish</th>\n",
       "    </tr>\n",
       "  </thead>\n",
       "  <tbody>\n",
       "    <tr>\n",
       "      <td>0</td>\n",
       "      <td>A</td>\n",
       "      <td>00:00:00</td>\n",
       "      <td>00:00:01</td>\n",
       "    </tr>\n",
       "    <tr>\n",
       "      <td>1</td>\n",
       "      <td>D</td>\n",
       "      <td>00:00:01</td>\n",
       "      <td>00:00:02</td>\n",
       "    </tr>\n",
       "    <tr>\n",
       "      <td>2</td>\n",
       "      <td>A</td>\n",
       "      <td>00:00:01</td>\n",
       "      <td>00:00:03</td>\n",
       "    </tr>\n",
       "    <tr>\n",
       "      <td>3</td>\n",
       "      <td>E</td>\n",
       "      <td>00:00:03</td>\n",
       "      <td>00:00:04</td>\n",
       "    </tr>\n",
       "    <tr>\n",
       "      <td>4</td>\n",
       "      <td>A</td>\n",
       "      <td>00:00:03</td>\n",
       "      <td>00:00:06</td>\n",
       "    </tr>\n",
       "  </tbody>\n",
       "</table>\n",
       "</div>"
      ],
      "text/plain": [
       "  note     start    finish\n",
       "0    A  00:00:00  00:00:01\n",
       "1    D  00:00:01  00:00:02\n",
       "2    A  00:00:01  00:00:03\n",
       "3    E  00:00:03  00:00:04\n",
       "4    A  00:00:03  00:00:06"
      ]
     },
     "execution_count": 5,
     "metadata": {},
     "output_type": "execute_result"
    }
   ],
   "source": [
    "data = [\n",
    "    ('A', '00:00:00', '00:00:01'),\n",
    "    ('D', '00:00:01', '00:00:02'),\n",
    "    ('A', '00:00:01', '00:00:03'),\n",
    "    ('E', '00:00:03', '00:00:04'),\n",
    "    ('A', '00:00:03', '00:00:06'),\n",
    "]\n",
    "df = pd.DataFrame(data, columns=['note', 'start', 'finish'])\n",
    "df"
   ]
  },
  {
   "cell_type": "code",
   "execution_count": 6,
   "metadata": {},
   "outputs": [
    {
     "name": "stdout",
     "output_type": "stream",
     "text": [
      "[\n",
      "    {\n",
      "        \"note\": \"A\",\n",
      "        \"duration\": 2\n",
      "    },\n",
      "    {\n",
      "        \"note\": \"E\",\n",
      "        \"duration\": 2\n",
      "    },\n",
      "    {\n",
      "        \"note\": \"C\",\n",
      "        \"duration\": 4\n",
      "    },\n",
      "    {\n",
      "        \"note\": \"A\",\n",
      "        \"duration\": 2\n",
      "    },\n",
      "    {\n",
      "        \"note\": \"G\",\n",
      "        \"duration\": 2\n",
      "    }\n",
      "]\n"
     ]
    }
   ],
   "source": [
    "json_string = json.dumps(\n",
    "    [\n",
    "        {'note': 'A', 'duration': 2},\n",
    "        {'note': 'E', 'duration': 2},\n",
    "        {'note': 'C', 'duration': 4},\n",
    "        {'note': 'A', 'duration': 2},\n",
    "        {'note': 'G', 'duration': 2}\n",
    "    ], indent=4\n",
    ")\n",
    "print(json_string)"
   ]
  },
  {
   "cell_type": "markdown",
   "metadata": {},
   "source": [
    "If we have the notes already stored, its possible to make them occur together following these sequences or rules. But notice, this is not how sound waves are stored.\n",
    "To understand the record process we need to understand some things about the hardware. "
   ]
  },
  {
   "cell_type": "markdown",
   "metadata": {},
   "source": [
    "![](https://encrypted-tbn0.gstatic.com/images?q=tbn%3AANd9GcQ6Z6rPDM6K87EmkQjb51JauHJe3TZbIFdaKrtBU-yFcdq5rgRW)"
   ]
  },
  {
   "cell_type": "markdown",
   "metadata": {},
   "source": [
    "The microphone is a hardware that turns the vibrations in the air generated by our mounth or by the guitar strings into voltage variances. It has a mechanism that converts the mechanical vibration into a variance of impedance that provokes the variance of voltage."
   ]
  },
  {
   "cell_type": "markdown",
   "metadata": {},
   "source": [
    "![](https://encrypted-tbn0.gstatic.com/images?q=tbn%3AANd9GcSXElAXEIkhqgDksKlXcW6zPVtmYjUMp2VoqQ1a_8qqU9NpH61q)"
   ]
  },
  {
   "cell_type": "markdown",
   "metadata": {},
   "source": [
    "The waves make the diaphragm oscilate. The diaphragm going back and forward with in the same **frequency** as the sound wave generates a variance of voltage in the same **frequency**. \n",
    "    \n",
    "    So, how can we understand this oscilations? And how they look like?"
   ]
  },
  {
   "cell_type": "markdown",
   "metadata": {},
   "source": [
    "# Lets put a face to that"
   ]
  },
  {
   "cell_type": "markdown",
   "metadata": {},
   "source": [
    "![](https://media3.giphy.com/media/YxeWytfutfU5i/source.gif)"
   ]
  },
  {
   "cell_type": "markdown",
   "metadata": {},
   "source": [
    "    Doesn't it look like this?"
   ]
  },
  {
   "cell_type": "markdown",
   "metadata": {},
   "source": [
    "![](https://media1.giphy.com/media/F5rQlfTXqCJ8c/giphy.gif)"
   ]
  },
  {
   "cell_type": "markdown",
   "metadata": {},
   "source": [
    "Thus waves in the physical (analog) world are continuous! In every two instants there are an infinitude of points (samples)... And we can not store an infinitude of voltage samples... Our wave inside our media files will look something like this:"
   ]
  },
  {
   "cell_type": "code",
   "execution_count": 15,
   "metadata": {},
   "outputs": [
    {
     "name": "stdout",
     "output_type": "stream",
     "text": [
      "  3|.                ..                ..                ..                ..                ..                .\n",
      "  2|  .            .    .            .    .            .    .            .    .            .    .            .  \n",
      "  1|   .          .      .          .      .          .      .          .      .          .      .          .   \n",
      "  0|    .        .        .        .        .        .        .        .        .        .        .        .    \n",
      " -1|     .      .          .      .          .      .          .      .          .      .          .      .     \n",
      " -2|      .    .            .    .            .    .            .    .            .    .            .    .      \n",
      " -3|        ..                ..                ..                ..                ..                ..        \n",
      " __|____________________________________________________________________________________________________________\n",
      "   | 0              20              40              60              80              100              120        \n"
     ]
    }
   ],
   "source": [
    "print('  3|.                ..                ..                ..                ..                ..                .')\n",
    "print('  2|  .            .    .            .    .            .    .            .    .            .    .            .  ')\n",
    "print('  1|   .          .      .          .      .          .      .          .      .          .      .          .   ')\n",
    "print('  0|    .        .        .        .        .        .        .        .        .        .        .        .    ')\n",
    "print(' -1|     .      .          .      .          .      .          .      .          .      .          .      .     ')\n",
    "print(' -2|      .    .            .    .            .    .            .    .            .    .            .    .      ')\n",
    "print(' -3|        ..                ..                ..                ..                ..                ..        ')\n",
    "print(' __|____________________________________________________________________________________________________________')\n",
    "print('   | 0              20              40              60              80              100              120        ')\n"
   ]
  },
  {
   "cell_type": "markdown",
   "metadata": {},
   "source": [
    "    But we will not use prints to create our plots!"
   ]
  },
  {
   "cell_type": "code",
   "execution_count": 16,
   "metadata": {},
   "outputs": [
    {
     "data": {
      "image/png": "[encoded data removed]",
      "text/plain": [
       "<Figure size 1080x216 with 1 Axes>"
      ]
     },
     "metadata": {
      "needs_background": "light"
     },
     "output_type": "display_data"
    }
   ],
   "source": [
    "nrepetitions = 6\n",
    "voltages = nrepetitions * [3.1, 3, 2.5, 2,  1, 0, -1, -2, -2.5, -3, -3.1, -3, -2.5, -2, -1, 0, 1, 2, 2.5, 3, 3.1]\n",
    "plt.figure(figsize=(15, 3))\n",
    "plt.plot(voltages)\n",
    "plt.xlim([0, len(voltages)])\n",
    "plt.show()"
   ]
  },
  {
   "cell_type": "markdown",
   "metadata": {},
   "source": [
    "In our playground here we will use 100 samples per second as our \"Sampling Frequency\". So every 1 second interval we will contain 100 \"voltage\" samples. 100 samples per second can, also, be called 100hz in honor to german physicist Heinrich Hertz."
   ]
  },
  {
   "cell_type": "markdown",
   "metadata": {},
   "source": [
    "![](https://encrypted-tbn0.gstatic.com/images?q=tbn%3AANd9GcTkcbL_P8yEkDUIxNL1pgFVSyGjsa9CRFNb__Mm2Nu1M5cTYGBb)"
   ]
  },
  {
   "cell_type": "code",
   "execution_count": 17,
   "metadata": {},
   "outputs": [
    {
     "data": {
      "image/png": "[encoded data removed]",
      "text/plain": [
       "<Figure size 432x288 with 1 Axes>"
      ]
     },
     "metadata": {
      "needs_background": "light"
     },
     "output_type": "display_data"
    }
   ],
   "source": [
    "sampling_frequency = 100\n",
    "time = 5\n",
    "time_vector = np.linspace(0, time, int(sampling_frequency * time))\n",
    "plt.plot(time_vector)\n",
    "plt.ylabel('Time (s)')\n",
    "plt.xlabel('Sample')\n",
    "plt.title('Time vector built using our 100hz sampling frequency.')\n",
    "plt.show()"
   ]
  },
  {
   "cell_type": "markdown",
   "metadata": {},
   "source": [
    "A time vector that contains all the seconds with $1/100$ seconds between them from 0 to 5 seconds."
   ]
  },
  {
   "cell_type": "markdown",
   "metadata": {},
   "source": [
    "You probably could see, in that acoustic guitar gif, that the strings that produce a higher sound vibrate \"more\" and the strings that produce a lower sound vibrate \"less\". This effect is due to the component that identify the tune of the note: the frequency itself. The volume of the note is how far the strings go alway from its center of vibration."
   ]
  },
  {
   "cell_type": "code",
   "execution_count": 21,
   "metadata": {},
   "outputs": [
    {
     "data": {
      "image/png": "[encoded data removed]",
      "text/plain": [
       "<Figure size 432x288 with 1 Axes>"
      ]
     },
     "metadata": {
      "needs_background": "light"
     },
     "output_type": "display_data"
    }
   ],
   "source": [
    "cos_1_vector = (cosine(time_vector, 1))\n",
    "plt.plot(time_vector, cos_1_vector)\n",
    "plot_freq_points(1, time, y_offset=0.5)\n",
    "plt.xlabel('Time [s]')\n",
    "plt.ylabel('Volume [u.v.]')\n",
    "plt.show()"
   ]
  },
  {
   "cell_type": "markdown",
   "metadata": {},
   "source": [
    "So we can emulate the behavior of a note using simple cosine generations. In which we will have the tune of the notes beeing the frequency of the cosine. Lets create a cosine with 1hz using our time vector."
   ]
  },
  {
   "cell_type": "code",
   "execution_count": 23,
   "metadata": {},
   "outputs": [
    {
     "data": {
      "image/png": "[encoded data removed]",
      "text/plain": [
       "<Figure size 432x288 with 1 Axes>"
      ]
     },
     "metadata": {
      "needs_background": "light"
     },
     "output_type": "display_data"
    }
   ],
   "source": [
    "cos_1_vector = (cosine(time_vector, 1))\n",
    "plt.plot(time_vector, cos_1_vector)\n",
    "plot_freq_points(1, time, y_offset=0.5)\n",
    "plt.xlabel('Time [s]')\n",
    "plt.ylabel('Volume [u.v.]')\n",
    "plt.show()"
   ]
  },
  {
   "cell_type": "markdown",
   "metadata": {},
   "source": [
    "If we count the red dots, we will see that the wave repeats itself 5 times in 5 seconds. That is, 5 repetitions in 5 seconds = 1hz. A cosine that have only one "
   ]
  },
  {
   "cell_type": "code",
   "execution_count": null,
   "metadata": {},
   "outputs": [],
   "source": []
  },
  {
   "cell_type": "code",
   "execution_count": null,
   "metadata": {},
   "outputs": [],
   "source": [
    "cos_02_vector = cosine(time_vector, 0.2)\n",
    "plt.plot(time_vector, cos_02_vector)\n",
    "plot_freq_points(0.2, time, y_offset=0.5)\n",
    "plt.show()\n",
    "find_frequency(cos_02_vector)"
   ]
  },
  {
   "cell_type": "markdown",
   "metadata": {},
   "source": [
    "    Based on the wave forms that I showed to my friend, he was able to present a simple algorithm to find the wave frequency inside those audios. So the software should work like this:\n",
    "        1. Find out how many samples of amplitude (volume) are in a second interval\n",
    "        2. Count how many arrows up (peeks) and how many arrows down (vales) there are in sequence.\n",
    "        3. Calculate the frequency by dividing the number of peeks and vales divided by two in one second.\n",
    "        3. verificar a frequência contando o número de picos acontecem em 1 segundo.\n",
    "    Nice, something like this\n",
    "\n"
   ]
  },
  {
   "cell_type": "code",
   "execution_count": null,
   "metadata": {},
   "outputs": [],
   "source": [
    "def find_frequency(signal, freq=sampling_frequency):\n",
    "    going_up = signal[0] > signal[1]\n",
    "    going_down = signal[0] < signal[1]\n",
    "\n",
    "    wave_length_s = len(signal) / freq\n",
    "    print(f'Wave duration: {wave_length_s}s')\n",
    "    print()\n",
    "    peeks, vales = 0, 0\n",
    "    sample_t_1 = signal[0]\n",
    "    for i, sample_t in enumerate(signal[1:]):\n",
    "        if (sample_t > signal[i]) and going_down:\n",
    "            peeks += 1\n",
    "            going_down = False\n",
    "            going_up = True\n",
    "\n",
    "        elif (signal[i] > sample_t) and going_up:\n",
    "            vales += 1\n",
    "            going_up = False\n",
    "            going_down = True\n",
    "            \n",
    "        frequency = ((peeks + vales) / 2) / wave_length_s\n",
    "    print(f'Found {peeks} peeks in {wave_length_s}s.')\n",
    "    print(f'Found {vales} vales in {wave_length_s}s.')\n",
    "    print(f'The calculated frequency is {frequency}hz.')\n",
    "    print()\n",
    "        \n",
    "find_frequency(cos_1_vector)\n",
    "    "
   ]
  },
  {
   "cell_type": "code",
   "execution_count": null,
   "metadata": {},
   "outputs": [],
   "source": [
    "cos_2_vector = cosine(time_vector, 2)\n",
    "plt.plot(time_vector, cos_2_vector)\n",
    "plot_freq_points(2, time, y_offset=0.5)\n",
    "plt.show()\n",
    "find_frequency(cos_2_vector)"
   ]
  },
  {
   "cell_type": "code",
   "execution_count": null,
   "metadata": {},
   "outputs": [],
   "source": [
    "combined_cosine_vector = cos_02_vector + cos_2_vector + cos_1_vector\n",
    "plt.plot(time_vector, combined_cosine_vector)\n",
    "plt.show()\n",
    "find_frequency(combined_cosine_vector)"
   ]
  },
  {
   "cell_type": "markdown",
   "metadata": {},
   "source": [
    "    Heck! it stopped working. We will need to find a way to identify those frequency components...\n",
    "   "
   ]
  },
  {
   "cell_type": "code",
   "execution_count": null,
   "metadata": {},
   "outputs": [],
   "source": [
    "plt.plot(time_vector, combined_cosine_vector)\n",
    "plt.plot(time_vector, 3*cos_02_vector)\n",
    "# plt.plot(time_vector, 3*cos_2_vector)\n",
    "# plt.plot(time_vector, 3*cos_1_vector)\n",
    "plt.show()\n",
    "find_frequency(combined_cosine_vector)"
   ]
  },
  {
   "cell_type": "markdown",
   "metadata": {},
   "source": [
    "# And now?"
   ]
  },
  {
   "cell_type": "code",
   "execution_count": null,
   "metadata": {},
   "outputs": [],
   "source": [
    "def rotated_freq(time_vector, signal, f):\n",
    "    k = -2j * np.pi\n",
    "    return np.exp(k*f*time_vector) * signal"
   ]
  },
  {
   "cell_type": "code",
   "execution_count": null,
   "metadata": {},
   "outputs": [],
   "source": [
    "def polar(z):\n",
    "    a= z.real\n",
    "    b= z.imag\n",
    "    r = math.hypot(a,b)\n",
    "    theta = math.atan2(b,a)\n",
    "    return theta, r"
   ]
  },
  {
   "cell_type": "code",
   "execution_count": null,
   "metadata": {},
   "outputs": [],
   "source": [
    "cos_3 = cosine(time_vector, 3)\n",
    "plt.plot(time_vector, cos_3)\n",
    "plot_freq_points(3, time, y_offset=0.5)\n",
    "plt.show()"
   ]
  },
  {
   "cell_type": "code",
   "execution_count": null,
   "metadata": {},
   "outputs": [],
   "source": [
    "fig, ax = plt.subplots()\n",
    "\n",
    "ax.set_xlim(( 0, 2))\n",
    "ax.set_ylim((-2, 2))\n",
    "\n",
    "ax = plt.subplot(111, projection='polar')\n",
    "\n",
    "line, = ax.plot([], [], lw=2)\n",
    "\n",
    "def init():\n",
    "    ax.plot([], [])\n",
    "    return (line,)\n",
    "\n",
    "# animation function. This is called sequentially\n",
    "def animate(i):\n",
    "    rf = rotated_freq(time_vector, cos_3, i * 0.1)\n",
    "    rf_polar = np.array([polar(el) for el in rf])\n",
    "    rf_theta = [el[0] for el in rf_polar] \n",
    "    rf_r = [el[1] for el in rf_polar]\n",
    "    ax.clear()\n",
    "    ax.plot(rf_theta, rf_r)\n",
    "    return (line,)\n",
    "\n",
    "# call the animator. blit=True means only re-draw the parts that have changed.\n",
    "anim = animation.FuncAnimation(fig, animate, init_func=init,\n",
    "                               frames=30, interval=100, blit=True)\n",
    "\n",
    "HTML(anim.to_html5_video())"
   ]
  },
  {
   "cell_type": "code",
   "execution_count": null,
   "metadata": {},
   "outputs": [],
   "source": [
    "rf = rotated_freq(time_vector, cos_3, 0.5)\n",
    "rf_polar = np.array([polar(el) for el in rf])\n",
    "rf_theta = [el[0] for el in rf_polar] \n",
    "rf_r = [el[1] for el in rf_polar]\n",
    "ax = plt.subplot(111, projection='polar')\n",
    "ax.plot(rf_theta, rf_r)\n",
    "plt.show()"
   ]
  },
  {
   "cell_type": "code",
   "execution_count": null,
   "metadata": {},
   "outputs": [],
   "source": [
    "rf = rotated_freq(time_vector, cos_3, 1)\n",
    "rf_polar = np.array([polar(el) for el in rf])\n",
    "rf_theta = [el[0] for el in rf_polar] \n",
    "rf_r = [el[1] for el in rf_polar]\n",
    "ax = plt.subplot(111, projection='polar')\n",
    "ax.plot(rf_theta, rf_r)\n",
    "plt.show()"
   ]
  },
  {
   "cell_type": "code",
   "execution_count": null,
   "metadata": {},
   "outputs": [],
   "source": [
    "rf = rotated_freq(time_vector, cos_3, 1.5)\n",
    "rf_polar = np.array([polar(el) for el in rf])\n",
    "rf_theta = [el[0] for el in rf_polar] \n",
    "rf_r = [el[1] for el in rf_polar]\n",
    "ax = plt.subplot(111, projection='polar')\n",
    "ax.plot(rf_theta, rf_r)\n",
    "plt.show()"
   ]
  },
  {
   "cell_type": "code",
   "execution_count": null,
   "metadata": {},
   "outputs": [],
   "source": [
    "rf = rotated_freq(time_vector, cos_3, 2)\n",
    "rf_polar = np.array([polar(el) for el in rf])\n",
    "rf_theta = [el[0] for el in rf_polar] \n",
    "rf_r = [el[1] for el in rf_polar]\n",
    "ax = plt.subplot(111, projection='polar')\n",
    "ax.plot(rf_theta, rf_r)\n",
    "plt.show()"
   ]
  },
  {
   "cell_type": "code",
   "execution_count": null,
   "metadata": {},
   "outputs": [],
   "source": [
    "rf = rotated_freq(time_vector, cos_3, 3)\n",
    "rf_polar = np.array([polar(el) for el in rf])\n",
    "rf_theta = [el[0] for el in rf_polar] \n",
    "rf_r = [el[1] for el in rf_polar]\n",
    "ax = plt.subplot(111, projection='polar')\n",
    "ax.plot(rf_theta, rf_r)\n",
    "plt.show()"
   ]
  },
  {
   "cell_type": "code",
   "execution_count": null,
   "metadata": {},
   "outputs": [],
   "source": [
    "mean = np.mean(rf)\n",
    "print(mean.real)\n",
    "print(mean.imag)"
   ]
  },
  {
   "cell_type": "code",
   "execution_count": null,
   "metadata": {},
   "outputs": [],
   "source": [
    "mass_centers_real = []\n",
    "mass_centers_imag = []\n",
    "for i in np.arange(0, 100, 0.1):\n",
    "    rf = rotated_freq(time_vector, cos_3, i)\n",
    "    mean = np.mean(rf)\n",
    "    mass_centers_real.append(mean.real)\n",
    "    mass_centers_imag.append(mean.imag)\n"
   ]
  },
  {
   "cell_type": "code",
   "execution_count": null,
   "metadata": {},
   "outputs": [],
   "source": [
    "plt.plot(np.arange(0, 100, 0.1), mass_centers_real)"
   ]
  },
  {
   "cell_type": "code",
   "execution_count": null,
   "metadata": {},
   "outputs": [],
   "source": [
    "mass_centers_real = []\n",
    "mass_centers_imag = []\n",
    "for i in np.arange(0.1, 99, 0.1):\n",
    "    rf = rotated_freq(time_vector, combined_cosine_vector, i)\n",
    "    mean = np.sum(rf)\n",
    "    mass_centers_real.append(mean.real)\n",
    "    mass_centers_imag.append(mean.imag)\n"
   ]
  },
  {
   "cell_type": "code",
   "execution_count": null,
   "metadata": {},
   "outputs": [],
   "source": [
    "plt.plot(np.arange(0.1, 99, 0.1)[:50], mass_centers_real[:50])\n",
    "plt.show()"
   ]
  },
  {
   "cell_type": "code",
   "execution_count": null,
   "metadata": {},
   "outputs": [],
   "source": [
    "group"
   ]
  },
  {
   "cell_type": "code",
   "execution_count": null,
   "metadata": {},
   "outputs": [],
   "source": []
  }
 ],
 "metadata": {
  "kernelspec": {
   "display_name": "Python 3",
   "language": "python",
   "name": "python3"
  },
  "language_info": {
   "codemirror_mode": {
    "name": "ipython",
    "version": 3
   },
   "file_extension": ".py",
   "mimetype": "text/x-python",
   "name": "python",
   "nbconvert_exporter": "python",
   "pygments_lexer": "ipython3",
   "version": "3.6.8"
  },
  "toc": {
   "base_numbering": 1,
   "nav_menu": {},
   "number_sections": true,
   "sideBar": true,
   "skip_h1_title": false,
   "title_cell": "Table of Contents",
   "title_sidebar": "Contents",
   "toc_cell": false,
   "toc_position": {},
   "toc_section_display": true,
   "toc_window_display": false
  }
 },
 "nbformat": 4,
 "nbformat_minor": 2
}
